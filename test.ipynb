{
 "cells": [
  {
   "cell_type": "code",
   "execution_count": 1,
   "metadata": {},
   "outputs": [],
   "source": [
    "import torch\n",
    "from torch.utils.data import DataLoader\n",
    "from sklearn.metrics import f1_score, precision_score, recall_score, accuracy_score\n",
    "\n",
    "from use import prediction\n",
    "from get_datasets import get_datasets\n",
    "from get_models import get_model\n",
    "from tools import *"
   ]
  },
  {
   "cell_type": "code",
   "execution_count": 2,
   "metadata": {},
   "outputs": [],
   "source": [
    "data_config = {}\n",
    "data_config[\"path\"] = 'datas/data_Foxwq_9d.csv'\n",
    "data_config[\"data_size\"] = 50000\n",
    "data_config[\"offset\"] = 0\n",
    "data_config[\"data_type\"] = \"Word\"\n",
    "data_config[\"data_source\"] = \"foxwq\" \n",
    "data_config[\"num_moves\"] = 240\n",
    "data_config[\"extend\"] = False"
   ]
  },
  {
   "cell_type": "code",
   "execution_count": 3,
   "metadata": {},
   "outputs": [
    {
     "name": "stderr",
     "output_type": "stream",
     "text": [
      "d:\\codes\\python\\.vscode\\Language_Go\\get_datasets.py:152: DtypeWarning: Columns (347,348,349,350,351,352,353,354,355,356,357,358,359,360,361,362,363,364,365,366,367,368,369,370,371,372,373,374,375,376,377,378,379,380,381,382,383,384,385,386,387,388,389,390,391,392,393,394,395,396,397,398,399,400) have mixed types. Specify dtype option on import or set low_memory=False.\n",
      "  df = pd.read_csv(data_config[\"path\"], encoding=\"ISO-8859-1\", on_bad_lines='skip')\n"
     ]
    },
    {
     "name": "stdout",
     "output_type": "stream",
     "text": [
      "check_rate:0.96858\n",
      "has 48429 games\n",
      "transfer finish\n"
     ]
    },
    {
     "name": "stderr",
     "output_type": "stream",
     "text": [
      "                                                    \r"
     ]
    },
    {
     "name": "stdout",
     "output_type": "stream",
     "text": [
      "steps finish\n"
     ]
    },
    {
     "name": "stderr",
     "output_type": "stream",
     "text": [
      "                                                            \r"
     ]
    },
    {
     "name": "stdout",
     "output_type": "stream",
     "text": [
      "data finish\n"
     ]
    },
    {
     "name": "stderr",
     "output_type": "stream",
     "text": [
      "                                                            \r"
     ]
    },
    {
     "name": "stdout",
     "output_type": "stream",
     "text": [
      "evalData shape:torch.Size([1162080, 240])\n",
      "evalData memory size:2231193600\n"
     ]
    }
   ],
   "source": [
    "_, testData = get_datasets(data_config, train=False)\n",
    "test_loader = DataLoader(testData, batch_size=64, shuffle=False)"
   ]
  },
  {
   "cell_type": "code",
   "execution_count": 4,
   "metadata": {},
   "outputs": [
    {
     "name": "stdout",
     "output_type": "stream",
     "text": [
      "72237\n"
     ]
    }
   ],
   "source": [
    "tgt = np.load('D://codes//python//.vscode//Language_Go//datas//acc30_diff.npy')\n",
    "print(len(tgt))"
   ]
  },
  {
   "cell_type": "code",
   "execution_count": 27,
   "metadata": {},
   "outputs": [
    {
     "name": "stdout",
     "output_type": "stream",
     "text": [
      "['pd', 'pp', 'dc', 'cp', 'cf', 'eq', 'qf', 'jc', 'lc', 'gc', 'qn', 'nq', 'hd', 'gd', 'jd', 'ic', 'id', 'fb', 'pk', 'oj', 'pj', 'oi', 'ok', 'mj', 'nk', 'lh', 'qq', 'qp', 'rp', 'pq', 'rr', 'qr', 'rq', 'kp', 'dk', 'kd', 'kc', 'ke', 'hf', 'gf', 'gg', 'he', 'if', 'fg', 'gh', 'md', 'nc', 'fh', 'gi', 'ef', 'cd', 'cg', 'bg', 'bf', 'ch', 'dg', 'be', 'bh', 'af', 'ci', 'kb', 'ej', 'hc', 'hb', 'ie', 'ja', 'ge', 'fe', 'ff', 'ed', 'kj', 'ji', 'jj', 'ii', 'hk', 'jg', 'fk', 'nd', 'oc', 'og', 'jp', 'jq', 'iq', 'ip', 'jo', 'hq', 'kq', 'ir', 'jr', 'qo', 'iq', 'pn', 'co', 'do', 'dn', 'qm', 'pr', 'or', 'qs', 'cn', 'bo', 'bp', 'dm', 'qg', 'pf', 'rh', 'rn', 'om', 'mk', 'jq', 'of', 'nf', 'pg', 'ph', 'ng', 'oh', 'rg', 'qh', 'ne', 'mf', 'iq', 'mm', 'jq', 'od', 'mc', 'qd', 'pc', 'rf', 're', 'sg', 'rd', 'bn', 'eo', 'dp', 'gq', 'gr', 'hp', 'hr', 'fp', 'km', 'jm', 'kl', 'ta', 'as', 'as', 'as', 'as', 'as', 'as', 'as', 'as', 'as', 'as', 'as', 'as', 'as', 'as', 'as', 'as', 'as', 'as', 'as', 'as', 'as', 'as', 'as', 'as', 'as', 'as', 'as', 'as', 'as', 'as', 'as', 'as', 'as', 'as', 'as', 'as', 'as', 'as', 'as', 'as', 'as', 'as', 'as', 'as', 'as', 'as', 'as', 'as', 'as', 'as', 'as', 'as', 'as', 'as', 'as', 'as', 'as', 'as', 'as', 'as', 'as', 'as', 'as', 'as', 'as', 'as', 'as', 'as', 'as', 'as', 'as', 'as', 'as', 'as', 'as', 'as', 'as', 'as', 'as', 'as', 'as', 'as', 'as', 'as', 'as', 'as', 'as', 'as', 'as', 'as', 'as', 'as', 'as', 'as', 'as', 'as', 'as']\n",
      "rl\n"
     ]
    }
   ],
   "source": [
    "n = 10005\n",
    "xw = testData.x[tgt[n]].cpu().numpy()\n",
    "y = testData.y[tgt[n]].cpu().numpy()\n",
    "xw = [transfer_back(x-1) for x in xw]\n",
    "y = transfer_back(y)\n",
    "print(xw)\n",
    "print(y)"
   ]
  },
  {
   "cell_type": "code",
   "execution_count": 4,
   "metadata": {},
   "outputs": [
    {
     "data": {
      "text/plain": [
       "1162080"
      ]
     },
     "execution_count": 4,
     "metadata": {},
     "output_type": "execute_result"
    }
   ],
   "source": [
    "B5 = np.load('D://codes//python//.vscode//Language_Go//datas//B5_correct.npy')\n",
    "R5 = np.load('D://codes//python//.vscode//Language_Go//datas//R5_correct.npy')\n",
    "len(B5)\n",
    "len(R5)\n"
   ]
  },
  {
   "cell_type": "code",
   "execution_count": 8,
   "metadata": {},
   "outputs": [
    {
     "name": "stdout",
     "output_type": "stream",
     "text": [
      "121.86532573454691\n",
      "120.14697400502564\n"
     ]
    }
   ],
   "source": [
    "B5_moves = [i%240 for i in range(len(B5)) if B5[i]]\n",
    "R5_moves = [i%240 for i in range(len(R5)) if R5[i]]\n",
    "\n",
    "print(np.mean(B5_moves))\n",
    "print(np.mean(R5_moves))"
   ]
  },
  {
   "cell_type": "code",
   "execution_count": 5,
   "metadata": {},
   "outputs": [
    {
     "name": "stdout",
     "output_type": "stream",
     "text": [
      "105.57615352838694\n"
     ]
    }
   ],
   "source": [
    "R_nB = [True  if R5[i] and not B5[i] else False for i in range(len(B5))]\n",
    "R_nB_moves = [i%240 for i in range(len(B5)) if R_nB[i]]\n",
    "print(np.mean(R_nB_moves))"
   ]
  },
  {
   "cell_type": "code",
   "execution_count": 6,
   "metadata": {},
   "outputs": [
    {
     "name": "stdout",
     "output_type": "stream",
     "text": [
      "105.57615352838694\n"
     ]
    }
   ],
   "source": [
    "nR_B = [True  if B5[i] and not R5[i] else False for i in range(len(B5))]\n",
    "nR_B_moves = [i%240 for i in range(len(B5)) if R_nB[i]]\n",
    "print(np.mean(nR_B_moves))"
   ]
  },
  {
   "cell_type": "code",
   "execution_count": 7,
   "metadata": {},
   "outputs": [
    {
     "name": "stdout",
     "output_type": "stream",
     "text": [
      "105.57615352838694\n"
     ]
    }
   ],
   "source": [
    "R_B = [True  if B5[i] and R5[i] else False for i in range(len(B5))]\n",
    "R_B_moves = [i%240 for i in range(len(B5)) if R_nB[i]]\n",
    "print(np.mean(R_B_moves))"
   ]
  },
  {
   "cell_type": "code",
   "execution_count": 8,
   "metadata": {},
   "outputs": [
    {
     "name": "stdout",
     "output_type": "stream",
     "text": [
      "105.57615352838694\n"
     ]
    }
   ],
   "source": [
    "nR_nB = [True if not B5[i] and not R5[i] else False for i in range(len(B5))]\n",
    "nR_nB_moves = [i%240 for i in range(len(B5)) if R_nB[i]]\n",
    "print(np.mean(nR_nB_moves))"
   ]
  },
  {
   "cell_type": "code",
   "execution_count": 9,
   "metadata": {},
   "outputs": [],
   "source": [
    "import math\n",
    "def distance(m1, m2):\n",
    "    x1 = m1//19\n",
    "    y1 = m1%19\n",
    "    x2 = m2//19\n",
    "    y2 = m2%19\n",
    "\n",
    "    return math.sqrt(math.pow(x2-x1,2)+math.pow(y2-y1,2))"
   ]
  },
  {
   "cell_type": "code",
   "execution_count": 10,
   "metadata": {},
   "outputs": [
    {
     "name": "stdout",
     "output_type": "stream",
     "text": [
      "5.914109843663303\n"
     ]
    }
   ],
   "source": [
    "dis = []\n",
    "trues = testData.y.cpu().numpy()\n",
    "for i, check in enumerate(R_nB):\n",
    "    if i%240:\n",
    "        if check:\n",
    "            dis.append(distance(trues[i], trues[i-1]))\n",
    "    \n",
    "        \n",
    "print(np.mean(dis))"
   ]
  },
  {
   "cell_type": "code",
   "execution_count": 11,
   "metadata": {},
   "outputs": [
    {
     "name": "stdout",
     "output_type": "stream",
     "text": [
      "2.0057476053307064\n"
     ]
    }
   ],
   "source": [
    "dis = []\n",
    "trues = testData.y.cpu().numpy()\n",
    "for i, check in enumerate(R_B):\n",
    "    if i%240:\n",
    "        if check:\n",
    "            dis.append(distance(trues[i], trues[i-1]))\n",
    "    \n",
    "        \n",
    "print(np.mean(dis))"
   ]
  },
  {
   "cell_type": "code",
   "execution_count": 12,
   "metadata": {},
   "outputs": [
    {
     "name": "stdout",
     "output_type": "stream",
     "text": [
      "3.6618538315761215\n"
     ]
    }
   ],
   "source": [
    "dis = []\n",
    "trues = testData.y.cpu().numpy()\n",
    "for i, check in enumerate(nR_B):\n",
    "    if i%240:\n",
    "        if check:\n",
    "            dis.append(distance(trues[i], trues[i-1]))\n",
    "    \n",
    "        \n",
    "print(np.mean(dis))"
   ]
  },
  {
   "cell_type": "code",
   "execution_count": 13,
   "metadata": {},
   "outputs": [
    {
     "name": "stdout",
     "output_type": "stream",
     "text": [
      "6.703647931122937\n"
     ]
    }
   ],
   "source": [
    "dis = []\n",
    "trues = testData.y.cpu().numpy()\n",
    "for i, check in enumerate(nR_nB):\n",
    "    if i%240:\n",
    "        if check:\n",
    "            dis.append(distance(trues[i], trues[i-1]))\n",
    "    \n",
    "        \n",
    "print(np.mean(dis))"
   ]
  },
  {
   "cell_type": "code",
   "execution_count": 14,
   "metadata": {},
   "outputs": [
    {
     "name": "stdout",
     "output_type": "stream",
     "text": [
      "3.069755614231316\n"
     ]
    }
   ],
   "source": [
    "dis = []\n",
    "trues = testData.y.cpu().numpy()\n",
    "for i, check in enumerate(R_nB):\n",
    "    if i%240:\n",
    "        dis.append(distance(trues[i], trues[i-1]))\n",
    "\n",
    "        \n",
    "print(np.mean(dis))"
   ]
  }
 ],
 "metadata": {
  "kernelspec": {
   "display_name": "Python 3",
   "language": "python",
   "name": "python3"
  },
  "language_info": {
   "codemirror_mode": {
    "name": "ipython",
    "version": 3
   },
   "file_extension": ".py",
   "mimetype": "text/x-python",
   "name": "python",
   "nbconvert_exporter": "python",
   "pygments_lexer": "ipython3",
   "version": "3.9.0"
  }
 },
 "nbformat": 4,
 "nbformat_minor": 2
}
